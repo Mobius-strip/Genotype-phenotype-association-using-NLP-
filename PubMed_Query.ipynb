{
  "nbformat": 4,
  "nbformat_minor": 0,
  "metadata": {
    "colab": {
      "name": "PubMed_Query.ipynb",
      "provenance": []
    },
    "kernelspec": {
      "name": "python3",
      "display_name": "Python 3"
    },
    "language_info": {
      "name": "python"
    }
  },
  "cells": [
    {
      "cell_type": "code",
      "execution_count": null,
      "metadata": {
        "id": "jJmiN4Q0PGZc"
      },
      "outputs": [],
      "source": [
        ""
      ]
    },
    {
      "cell_type": "code",
      "source": [
        "pip install Bio"
      ],
      "metadata": {
        "colab": {
          "base_uri": "https://localhost:8080/"
        },
        "id": "1J246JzHkGlL",
        "outputId": "9ba4116a-67d4-4ecc-affa-3ec1c7b77ffe"
      },
      "execution_count": null,
      "outputs": [
        {
          "output_type": "stream",
          "name": "stdout",
          "text": [
            "Looking in indexes: https://pypi.org/simple, https://us-python.pkg.dev/colab-wheels/public/simple/\n",
            "Collecting Bio\n",
            "  Downloading bio-1.3.9-py3-none-any.whl (270 kB)\n",
            "\u001b[K     |████████████████████████████████| 270 kB 5.1 MB/s \n",
            "\u001b[?25hCollecting biopython>=1.79\n",
            "  Downloading biopython-1.79-cp37-cp37m-manylinux_2_5_x86_64.manylinux1_x86_64.whl (2.3 MB)\n",
            "\u001b[K     |████████████████████████████████| 2.3 MB 50.6 MB/s \n",
            "\u001b[?25hCollecting mygene\n",
            "  Downloading mygene-3.2.2-py2.py3-none-any.whl (5.4 kB)\n",
            "Requirement already satisfied: requests in /usr/local/lib/python3.7/dist-packages (from Bio) (2.23.0)\n",
            "Requirement already satisfied: tqdm in /usr/local/lib/python3.7/dist-packages (from Bio) (4.64.0)\n",
            "Requirement already satisfied: numpy in /usr/local/lib/python3.7/dist-packages (from biopython>=1.79->Bio) (1.21.6)\n",
            "Collecting biothings-client>=0.2.6\n",
            "  Downloading biothings_client-0.2.6-py2.py3-none-any.whl (37 kB)\n",
            "Requirement already satisfied: chardet<4,>=3.0.2 in /usr/local/lib/python3.7/dist-packages (from requests->Bio) (3.0.4)\n",
            "Requirement already satisfied: urllib3!=1.25.0,!=1.25.1,<1.26,>=1.21.1 in /usr/local/lib/python3.7/dist-packages (from requests->Bio) (1.24.3)\n",
            "Requirement already satisfied: certifi>=2017.4.17 in /usr/local/lib/python3.7/dist-packages (from requests->Bio) (2022.6.15)\n",
            "Requirement already satisfied: idna<3,>=2.5 in /usr/local/lib/python3.7/dist-packages (from requests->Bio) (2.10)\n",
            "Installing collected packages: biothings-client, mygene, biopython, Bio\n",
            "Successfully installed Bio-1.3.9 biopython-1.79 biothings-client-0.2.6 mygene-3.2.2\n"
          ]
        }
      ]
    },
    {
      "cell_type": "code",
      "source": [
        "import pandas as pd"
      ],
      "metadata": {
        "id": "kgum7mcDK6um"
      },
      "execution_count": null,
      "outputs": []
    },
    {
      "cell_type": "code",
      "source": [
        "df= pd.read_csv(\"/content/Untitled spreadsheet - Sheet1.csv\")"
      ],
      "metadata": {
        "id": "6jZ-etqjKde5"
      },
      "execution_count": null,
      "outputs": []
    },
    {
      "cell_type": "code",
      "source": [
        "lis= df.values.tolist()"
      ],
      "metadata": {
        "id": "5qRKlroVLwm-"
      },
      "execution_count": null,
      "outputs": []
    },
    {
      "cell_type": "code",
      "source": [
        "flat_list = [x for xs in lis for x in xs]"
      ],
      "metadata": {
        "id": "OYu4sEdWMNyn"
      },
      "execution_count": null,
      "outputs": []
    },
    {
      "cell_type": "code",
      "source": [
        "flat_list"
      ],
      "metadata": {
        "colab": {
          "base_uri": "https://localhost:8080/"
        },
        "id": "eeYe_ZFXLN3u",
        "outputId": "cb06288e-52ac-4982-b247-a31d8e5c86a1"
      },
      "execution_count": null,
      "outputs": [
        {
          "output_type": "execute_result",
          "data": {
            "text/plain": [
              "[32912208,\n",
              " 22670867,\n",
              " 14616056,\n",
              " 26227136,\n",
              " 31151207,\n",
              " 26284830,\n",
              " 27534414,\n",
              " 11511307,\n",
              " 34370083,\n",
              " 34058738,\n",
              " 17991156,\n",
              " 29723194,\n",
              " 32972606,\n",
              " 33715225,\n",
              " 28030792,\n",
              " 18528436,\n",
              " 18283646,\n",
              " 19504460,\n",
              " 1292016,\n",
              " 3568446,\n",
              " 28024137,\n",
              " 23363384,\n",
              " 9487023,\n",
              " 19482440,\n",
              " 24814217,\n",
              " 19571053,\n",
              " 26121602,\n",
              " 27435525,\n",
              " 29635692,\n",
              " 30890019,\n",
              " 28811591,\n",
              " 25515556,\n",
              " 19656326,\n",
              " 32580410,\n",
              " 18483556,\n",
              " 29678289,\n",
              " 27755135,\n",
              " 25387014,\n",
              " 30651286,\n",
              " 18586974,\n",
              " 24880339,\n",
              " 26549772,\n",
              " 31279435,\n",
              " 19297406,\n",
              " 21373989,\n",
              " 10744096,\n",
              " 30464090,\n",
              " 25017567,\n",
              " 15372380,\n",
              " 11254446,\n",
              " 31199540,\n",
              " 26450459,\n",
              " 1362182,\n",
              " 17147521,\n",
              " 7581459,\n",
              " 22447455,\n",
              " 24082855,\n",
              " 18637131,\n",
              " 24033376,\n",
              " 22120071,\n",
              " 24000325,\n",
              " 18717860,\n",
              " 24449225,\n",
              " 28819144,\n",
              " 7588057,\n",
              " 22777899,\n",
              " 21321476,\n",
              " 15958794,\n",
              " 11902150]"
            ]
          },
          "metadata": {},
          "execution_count": 12
        }
      ]
    },
    {
      "cell_type": "code",
      "source": [
        "text_pubmed=[]"
      ],
      "metadata": {
        "id": "Q5dmnJMeMVuP"
      },
      "execution_count": null,
      "outputs": []
    },
    {
      "cell_type": "code",
      "source": [
        "from Bio.Entrez import efetch\n",
        " \n",
        "def add_abstract(pmid):\n",
        "    global text_pubmed\n",
        "    handle = efetch(db='pubmed', id=pmid, retmode='text', rettype='abstract')\n",
        "    text_pubmed.append(handle.read())"
      ],
      "metadata": {
        "id": "oBvfr32kkEwd"
      },
      "execution_count": null,
      "outputs": []
    },
    {
      "cell_type": "code",
      "source": [
        "for pmid in flat_list:\n",
        "  add_abstract(pmid)"
      ],
      "metadata": {
        "colab": {
          "base_uri": "https://localhost:8080/"
        },
        "id": "_Pjr1OHQkYYV",
        "outputId": "78c1020a-6e67-4f1d-f981-23fe9849380f"
      },
      "execution_count": null,
      "outputs": [
        {
          "output_type": "stream",
          "name": "stderr",
          "text": [
            "/usr/local/lib/python3.7/dist-packages/Bio/Entrez/__init__.py:670: UserWarning: \n",
            "Email address is not specified.\n",
            "\n",
            "To make use of NCBI's E-utilities, NCBI requires you to specify your\n",
            "email address with each request.  As an example, if your email address\n",
            "is A.N.Other@example.com, you can specify it as follows:\n",
            "   from Bio import Entrez\n",
            "   Entrez.email = 'A.N.Other@example.com'\n",
            "In case of excessive usage of the E-utilities, NCBI will attempt to contact\n",
            "a user at the email address provided before blocking access to the\n",
            "E-utilities.\n",
            "  UserWarning,\n"
          ]
        }
      ]
    },
    {
      "cell_type": "code",
      "source": [
        "text_pubmed[:10]"
      ],
      "metadata": {
        "colab": {
          "base_uri": "https://localhost:8080/"
        },
        "id": "D8IKsXoYNBnn",
        "outputId": "1c82a979-a33f-4661-b002-90133d907681"
      },
      "execution_count": null,
      "outputs": [
        {
          "output_type": "execute_result",
          "data": {
            "text/plain": [
              "['\\n1. BMC Genomics. 2020 Sep 10;21(Suppl 7):527. doi: 10.1186/s12864-020-06923-1.\\n\\nOptimizing the genetic prediction of the eye and hair color for North Eurasian\\npopulations.\\n\\nBalanovska E(1)(2), Lukianova E(3), Kagazezheva J(1)(3)(4), Maurer A(5), Leybova \\nN(6), Agdzhoyan A(1)(3), Gorin I(3)(7), Petrushenko V(3)(7), Zhabagin M(8), Pylev\\nV(1), Kostryukova E(9), Balanovsky O(10)(11)(12).\\n\\nAuthor information: \\n(1)Research Centre for Medical Genetics, Moscow, Russia.\\n(2)Biobank of North Eurasia, Moscow, Russia.\\n(3)Vavilov Institute of General Genetics, Moscow, Russia.\\n(4)Krasnodar State Medical University, Krasnodar, Russia.\\n(5)Research Institute and Museum of Anthropology, Lomonosov Moscow State\\nUniversity, Moscow, Russia.\\n(6)Institute of Ethnology and Anthropology of Russian Academy of Sciences,\\nMoscow, Russia.\\n(7)Moscow Institute of Physics and Technology, Moscow, Russia.\\n(8)National Center for Biotechnology, Nursultan, Kazakhstan.\\n(9)Federal Research and Clinical Centre of Physical-Chemical Medicine, Moscow,\\nRussia.\\n(10)Research Centre for Medical Genetics, Moscow, Russia. balanovsky@inbox.ru.\\n(11)Biobank of North Eurasia, Moscow, Russia. balanovsky@inbox.ru.\\n(12)Vavilov Institute of General Genetics, Moscow, Russia. balanovsky@inbox.ru.\\n\\nBACKGROUND: Predicting the eye and hair color from genotype became an established\\nand widely used tool in forensic genetics, as well as in studies of ancient human\\npopulations. However, the accuracy of this tool has been verified on the West and\\nCentral Europeans only, while populations from border regions between Europe and \\nAsia (like Caucasus and Ural) also carry the light pigmentation phenotypes.\\nRESULTS: We phenotyped 286 samples collected across North Eurasia, genotyped them\\nby the standard HIrisPlex-S markers and found that predictive power in\\nCaucasus/Ural/West Siberian populations is reasonable but lower than that in West\\nEuropeans. As these populations have genetic ancestries different from that of\\nWest Europeans, we hypothesized they may carry a somewhat different allele\\nspectrum. Thus, for all samples we performed the exome sequencing additionally\\nenriched with the 53 genes and intergenic regions known to be associated with the\\neye/hair color. Our association analysis replicated the importance of the key\\npreviously known SNPs but also identified five new markers whose eye color\\nprediction power for the studied populations is compatible with the two major\\npreviously well-known SNPs. Four out of these five SNPs lie within the HERС2 gene\\nand the fifth in the intergenic region. These SNPs are found at high frequencies \\nin most studied populations. The released dataset of exomes from Russian\\npopulations can be further used for population genetic and medical genetic\\nstudies.\\nCONCLUSIONS: This study demonstrated that precision of the established systems\\nfor eye/hair color prediction from a genotype is slightly lower for the\\npopulations from the border regions between Europe and Asia that for the West\\nEuropeans. However, this precision can be improved if some newly revealed\\npredictive SNPs are added into the panel. We discuss that the replication of\\nthese pigmentation-associated SNPs on the independent North Eurasian sample is\\nneeded in the future studies.\\n\\nDOI: 10.1186/s12864-020-06923-1 \\nPMCID: PMC7488246\\nPMID: 32912208  [Indexed for MEDLINE]\\n\\n',\n",
              " '\\n1. J Dermatol. 2013 May;40(5):330-5. doi: 10.1111/j.1346-8138.2012.01583.x. Epub\\n2012 Jun 1.\\n\\nPiebaldism.\\n\\nOiso N(1), Fukai K, Kawada A, Suzuki T.\\n\\nAuthor information: \\n(1)Department of Dermatology, Kinki University Faculty of Medicine, Osakasayama, \\nJapan. naoiso@med.kindai.ac.jp\\n\\nPiebaldism is an uncommon autosomal dominantly inherited pigment anomaly\\ncharacterized by a congenital white forelock and leukoderma on the frontal scalp,\\nforehead, ventral trunk and extremities. It is caused by a loss-of-function\\nmutation in the KIT gene. Genetic analyses reveal a consistent genotype-phenotype\\nrelationship in piebaldism. However, recently reported cases of piebaldism that\\nare milder or severer than genetically expected indicate that other factors, such\\nas a modifier gene of MC1R, influence skin and hair color. The KIT ligand/KIT\\nthat triggers the Ras/mitogen-activated protein kinase signaling pathway play\\nessential functions in the migration, proliferation, survival, melanogenesis and \\nmelanosome transfer of the melanocytes. We summarize current research progress in\\npiebaldism and related disorders.\\n\\n© 2012 Japanese Dermatological Association.\\n\\nDOI: 10.1111/j.1346-8138.2012.01583.x \\nPMID: 22670867  [Indexed for MEDLINE]\\n\\n',\n",
              " '\\n1. Annu Rev Genet. 2003;37:67-90.\\n\\nGenetics of hair and skin color.\\n\\nRees JL(1).\\n\\nAuthor information: \\n(1)Systems Group, Dermatology, University of Edinburgh, Lauriston Buildings,\\nLauriston Place, Edinburgh, EH3 9YW, United Kingdom. jrees@staffmail.ed.ac.uk\\n\\nDifferences in skin and hair color are principally genetically determined and are\\ndue to variation in the amount, type, and packaging of melanin polymers produced \\nby melanocytes secreted into keratinocytes. Pigmentary phenotype is genetically\\ncomplex and at a physiological level complicated. Genes determining a number of\\nrare Mendelian disorders of pigmentation such as albinism have been identified,\\nbut only one gene, the melanocortin 1 receptor (MCR1), has so far been identified\\nto explain variation in the normal population such as that leading to red hair,\\nfreckling, and sun-sensitivity. Genotype-phenotype relations of the MC1R are\\nreviewed, as well as methods to improve the phenotypic assessment of human\\npigmentary status. It is argued that given advances in model systems, increases\\nin technical facility, and the lower cost of genotype assessment, the lack of\\nstandardized phenotype assessment is now a major limit on advance.\\n\\nDOI: 10.1146/annurev.genet.37.110801.143233 \\nPMID: 14616056  [Indexed for MEDLINE]\\n\\n',\n",
              " '\\n1. Forensic Sci Rev. 2015 Jan;27(1):13-40.\\n\\nThe genetics of skin, hair, and eye color variation and its relevance to forensic\\npigmentation predictive tests.\\n\\nMaroñas O(1), Söchtig J(1), Ruiz Y(2), Phillips C(3), Carracedo Á(1)(4), Lareu\\nMV(1).\\n\\nAuthor information: \\n(1)Unit of Forensic Genetics, Institute of Forensic Science, Genomic Medicine\\nGroup, University of Santiago de Compostela, Santiago de Compostela, Galicia,\\nSpain.\\n(2)Criminalistics Unit Against Violation of Fundamental Rights (UCCVDF-AMC),\\nAttorney General, Metropolitan Area of Caracas, Santiago de León de Caracas,\\nVenezuela.\\n(3)Unit of Forensic Genetics, Institute of Forensic Science, Genomic Medicine\\nGroup, University of Santiago de Compostela, Santiago de Compostela, Galicia,\\nSpain. c.phillips@mac.com.\\n(4)Center of Excellence in Genomic Medicine Research, King Abdelaziz University, \\nJeddah, Makkah Province, Saudi Arabia.\\n\\nThis review examines the potential application of single nucleotide polymorphism \\n(SNP)-based predictive tests for skin, hair, and eye color to forensic analysis\\nin support of police investigations lacking DNA database matches or eyewitness\\ntestimony. Brief descriptions of the biology of melanogenesis and the main genes \\ninvolved are presented in order to understand the basis of common pigmentation\\nvariation in humans. We outline the most recently developed forensically\\nsensitive multiplex tests that can be applied to investigative analyses. The\\nreview also describes the biology of the SNPs with the closest associations to,\\nand therefore the best predictors for, common variation in eye, hair, and skin\\npigmentation. Because pigmentation pathways are complex in their patterns, many\\nof the better-studied human albinism traits provide insight into how pigmentation\\nSNPs interact, control, or modify gene expression and show varying degrees of\\nassociation with the key genes identified to date. These aspects of SNP action\\nare discussed in an overview of each of the functional groups of pigmentation\\ngenes.\\n\\nCopyright © 2015 Central Police University.\\n\\n\\nPMID: 26227136  [Indexed for MEDLINE]\\n\\n',\n",
              " '\\n1. Int J Mol Sci. 2019 May 30;20(11). pii: E2665. doi: 10.3390/ijms20112665.\\n\\nThe Role of gp91phox and the Effect of Tranexamic Acid Administration on Hair\\nColor in Mice.\\n\\nHiramoto K(1), Yamate Y(2), Takishita Y(3), Sato EF(4).\\n\\nAuthor information: \\n(1)Department of Pharmaceutical Sciences, Suzuka University of Medical Science,\\n3500-3 Minamitamagakicho, Suzuka Mie 513-8670, Japan. hiramoto@suzuka-u.ac.jp.\\n(2)Department of Pharmaceutical Sciences, Suzuka University of Medical Science,\\n3500-3 Minamitamagakicho, Suzuka Mie 513-8670, Japan.\\nm8645767@msic.med.osaka-cu.ac.jp.\\n(3)Department of Pharmaceutical Sciences, Suzuka University of Medical Science,\\n3500-3 Minamitamagakicho, Suzuka Mie 513-8670, Japan. dp16002@st.suzuka-u.ac.jp.\\n(4)Department of Pharmaceutical Sciences, Suzuka University of Medical Science,\\n3500-3 Minamitamagakicho, Suzuka Mie 513-8670, Japan. efsato@suzuka-u.ac.jp.\\n\\nWe observed that on long-term breeding, gp91phox-knockout (gp91phox-/-) mice\\ndeveloped white hair. Here, we investigate the origin of this hitherto\\nunexplained phenomenon. Moreover, we investigated the effect of tranexamic acid\\nadministration on the hair color in gp91phox-/- mice. We administered tranexamic \\nacid (about 12 mg/kg/day) orally to 9-week-old C57BL/6j (control) and gp91phox-/-\\nmice, thrice a week for 12 months. Compared to control mice, gp91phox-/- mice\\nshowed more white hair. However, the concentrations of reactive oxygen species\\nand the levels of interleukin (IL)-1β and transforming growth factor (TGF)-β in\\nthe skin were lower than those in the control group. Furthermore, increase in\\nwhite hair was observed in the control mice upon administration of the IL-1β\\nantagonist. On the other hand, administration of tranexamic acid led to brown\\ncolored hair on gp91phox-/- mice. Although tranexamic acid treatment did not\\nalter the expression levels of melanocortin receptor 1 and agouti signaling\\nprotein on hair follicles, it increased the expression of mahogunin ring finger\\nprotein 1 (MGRN1) and collagen XVII. These results suggested that retention of\\nblack hair requires the gp91phox/ROS/IL-1β/TGF-β pathway and that elevated levels\\nof MGRN1 and collagen XVII lead to brown hair in gp91phox-/- mice.\\n\\nDOI: 10.3390/ijms20112665 \\nPMCID: PMC6600564\\nPMID: 31151207  [Indexed for MEDLINE]\\n\\n',\n",
              " '\\n1. Exp Dermatol. 2015 Dec;24(12):903-11. doi: 10.1111/exd.12836.\\n\\nHuman hair follicle organ culture: theory, application and perspectives.\\n\\nLangan EA(1)(2), Philpott MP(2), Kloepper JE(1), Paus R(3)(4).\\n\\nAuthor information: \\n(1)Department of Dermatology, University of Luebeck, Luebeck, Germany.\\n(2)Centre for Cutaneous Research, Blizard Institute, Queen Mary University,\\nLondon, UK.\\n(3)Dermatology Research Centre, Institute of Inflammation and Repair, University \\nof Manchester, Manchester, UK.\\n(4)Department of Dermatology, University of Muenster, Muenster, Germany.\\n\\nFor almost a quarter of a century, ex vivo studies of human scalp hair follicles \\n(HFs) have permitted major advances in hair research, spanning diverse fields\\nsuch as chronobiology, endocrinology, immunology, metabolism, mitochondrial\\nbiology, neurobiology, pharmacology, pigmentation and stem cell biology. Despite \\nthis, a comprehensive methodological guide to serum-free human HF organ culture\\n(HFOC) that facilitates the selection and analysis of standard HF biological\\nparameters and points out both research opportunities and pitfalls to newcomers\\nto the field is still lacking. The current methods review aims to close an\\nimportant gap in the literature and attempts to promote standardisation of human \\nHFOC. We provide basic information outlining the establishment of HFOC through to\\ndetailed descriptions of the analysis of standard read-out parameters alongside\\npractical examples. The guide closes by pointing out how serum-free HFOC can be\\nutilised optimally to obtain previously inaccessible insights into human HF\\nbiology and pathology that are of interest to experimental dermatologists,\\ngeneticists, developmental biologists and (neuro-) endocrinologists alike and by \\nhighlighting novel applications of the model, including gene silencing and gene\\nexpression profiling of defined, laser capture-microdissected HF compartments.\\n\\n© 2015 John Wiley & Sons A/S. Published by John Wiley & Sons Ltd.\\n\\nDOI: 10.1111/exd.12836 \\nPMID: 26284830  [Indexed for MEDLINE]\\n\\n',\n",
              " '\\n1. Anthropol Anz. 2016 Nov 1;73(4):283-293. Epub 2016 Aug 17.\\n\\nSelected gene polymorphisms effect on skin and hair pigmentation in Polish\\nchildren at the prepubertal age.\\n\\nSitek A(1), Rosset I(1), Żądzińska E(1)(2), Siewierska-Górska A(1)(3), Pietrowska\\nE(3), Strapagiel D(4).\\n\\nAuthor information: \\n(1)Department of Anthropology, Faculty of Biology and Environmental Protection,\\nUniversity of Lodz, ul. Banacha 12/16, 90-237 Łódź, Poland\\ne.zadzinska@biol.uni.lodz.pl iworos@biol.uni.lodz.pl.\\n(2)Visiting research fellowship in Biological Anthropology and Comparative\\nAnatomy Research Unit, School of Medicine, The University of Adelaide, SA 5005,\\nAustralia elzbieta.zadzinska@adelaide.edu.au.\\n(3)Department of Molecular Biophysics, Faculty of Biology and Environmental\\nProtection, University of Lodz, ul. Banacha 12/16, 90-237 Łódź, Poland\\nannam.siewierska@gmail.com pietrowska.edyta@gmail.com.\\n(4)Biobank Lab, Department of Molecular Biophysics, Faculty of Biology and\\nEnvironmental Protection, University of Lodz, ul. Banacha 12/16, 90-237 Łódź,\\nPoland strapag@biol.uni.lodz.pl.\\n\\nSUMMARY: Background: Human pigmentation, similarly as many other biological\\nfeatures, changes in the course of post-natal ontogenesis, while in case of hair,\\npigmentation changes are more distinctive than in the skin or the iris. It is\\ntherefore extremely important to identify the genes, involved in the constitution\\nof human pigmentation features at various stages of ontogenesis. Results of this \\ntype of analyses are of high practical significance in forensic study because\\nthey enable to create mathematical tools, allowing for prediction of the\\npigmentation phenotype, based on DNA studies. Aim: The objective of the\\ninvestigation was finding out whether the genes, associated with pigmentation of \\nadult subjects, differentiated in any way the newly forming pigmentation\\nphenotype in Polish prepubertal children. Material and methods: The study\\nencompassed Polish children, aged 7 to 10 years, without any abnormalities in\\nskin or hair pigmentation. A total of 245 children were examined. Constitutive\\nskin pigmentation according to skin melanin index (SMI) was evaluated, using a\\ndermaspectrometer, and classified into three groups based on the reference values\\nof 25 and 75 percentile for Polish children. Hair colors were evaluated by means \\nof the descriptive Fischer-Saller scale and classified by a division of color\\nvariants (as accepted in that scale) (light blonde, blonde, dark blonde, brown\\nand dark brown). In saliva samples, collected from the children, five (5) single \\nnucleotide polymorphisms were identified: SNPs: rs1800401 (OCA2-15q11.2-q12),\\nrs35264875 (TPCN2-11q13.3), rs16891982 (SLC45A2-5p13.2), rs12913832 (HERC2-15q13)\\nand rs1805007 (MC1R-16q24.3). An association between each allele of verified\\ngenotype and skin and hair color phenotypes was assessed, using the z-statistic\\nand associated p-value. The quality of classifiers was evaluated by 10-fold\\nstratified cross-validation and was characterized by the area under the receiver \\noperating characteristic curve (AUC). Results: Light skin pigmentation phenotype \\n(SMI<25 percentile) was associated with rs1805007 (MC1R) (allelic OR=3.95; 95%\\nCl:1.20-12.99; p=0.0235), while the dark shade of the skin (SMI>75 percentile)\\nwith rs16891982 (SLC45A2) (allelic OR =14.37; 95% Cl: 1.78-115.88; p=0.0123). The\\nprobability of dark hair (brown and dark brown) in childhood was increased by T\\nrs12913832 allele (HERC2) (OR=3.63); 95% Cl: 2.25-5.85; p < 0.0001) and dependent\\non it - rs1800401 (OCA2) (OR=6.31; 95% Cl: 1.74-22.91; p=0.0051). Other SNPs were\\nnot significantly associated with skin and hair color but improved prediction of \\nthese features. Conclusions: From the five gene polymorphisms analysed in Polish \\nchildren the strongest correlation with hair color has the rs12913832 (HERC2) and\\nwith skin color - rs16891982 (SLC45A2). Therefore, the above-mentioned\\npolymorphisms may be used as components of potential models, used to predict\\npigmentation features in European origin children in prepubertal age. To improve \\npredictive value of the potential scoring model for hair color, the following\\nshould be additionally included: rs1800401 (OCA2), rs35264875 (TPCN2) and\\nrs1805007 (MC1R), while for skin color: rs12913832 (HERC2) and rs1805007 (MC1R).\\n\\nDOI: 10.1127/anthranz/2016/0632 \\nPMID: 27534414  [Indexed for MEDLINE]\\n\\n',\n",
              " '\\n1. J Invest Dermatol. 2001 Aug;117(2):294-300.\\n\\nMelanocortin 1 receptor (MC1R) gene variants are associated with an increased\\nrisk for cutaneous melanoma which is largely independent of skin type and hair\\ncolor.\\n\\nKennedy C(1), ter Huurne J, Berkhout M, Gruis N, Bastiaens M, Bergman W, Willemze\\nR, Bavinck JN.\\n\\nAuthor information: \\n(1)Department of Dermatology, Leiden University Medical Center, RC Leiden, the\\nNetherlands.\\n\\nIndividuals carrying melanocortin 1 receptor gene variants have an increased risk\\nfor the development of cutaneous melanoma. Melanocortin 1 receptor gene variants \\nare also associated with other risk factors for melanoma such as fair skin and\\nred hair. We evaluated the relationship of melanocortin 1 receptor gene variants,\\nfair skin, red hair and the development of melanoma in 123 patients with\\ncutaneous melanoma and 385 control subjects. To analyze the association between\\nmelanocortin 1 receptor gene variants and skin type or hair color we also made\\nuse of 453 patients with nonmelanoma skin cancer. We analyzed the coding sequence\\nof the melanocortin 1 receptor gene region by single-stranded conformation\\npolymorphism analysis, followed by DNA sequence analysis. Risk of melanoma\\ndependent on the various melanocortin 1 receptor variant alleles was estimated by\\nexposure odds ratios. The analyses of all different melanocortin 1 receptor gene \\nvariants combined, showed that the presence of melanocortin 1 receptor gene\\nvariants amounted to a higher melanoma risk, which, in stratified analyses, was\\nindependent of skin type and hair color. The odds ratios after adjusting for skin\\ntype were 3.6 (95% CI 1.7-7.2) for two variants and 2.7 (95% CI 1.5-5.1) for one \\nvariant, respectively. Compound heterozygotes and homozygotes for the Val60Leu,\\nVal92Met, Arg142His, Arg151Cys, Arg160Trp, Arg163Gln, and His260Pro variants had \\nodds ratios of about 4 to develop melanoma, whereas heterozygotes for these\\nvariants had half the risk. The presence of the melanocortin 1 receptor gene\\nvariant Asp84Glu appeared to impose the highest risk for cutaneous melanoma with \\nodds ratios of 16.1 (95% CI 2.3-139.0) and 8.1 (95% CI 1.2-55.9) in compound\\nheterozygotes and heterozygotes, respectively. The broad confidence intervals,\\nwhen the different variants were analyzed separately, however, do not allow\\ndrawing definite conclusions about the magnitude of these risks. Of the more\\nfrequently occurring melanocortin 1 receptor variant alleles the Asp84Glu,\\nArg142His, Arg151Cys, Arg160Trp, His260Pro, and Asp294His variants were strongly \\nassociated with both fair skin and red hair. The Val60Leu, Val92Met, and\\nArg163Gln variant alleles, however, were only weakly or not associated with fair \\nskin type and/or red hair, which further illustrates the finding that skin type, \\nhair color, and melanoma are independent outcomes of the presence of melanocortin\\n1 receptor gene variants. We conclude that numerous melanocortin 1 receptor\\nvariants predispose to cutaneous melanoma and that possibly the Asp84Glu variant \\nconfers the highest risk. This predisposition is largely independent of skin type\\nand hair color.\\n\\nDOI: 10.1046/j.0022-202x.2001.01421.x \\nPMID: 11511307  [Indexed for MEDLINE]\\n\\n',\n",
              " '\\n1. Hum Genet. 2021 Nov;140(11):1581-1591. doi: 10.1007/s00439-021-02330-y. Epub 2021\\nAug 9.\\n\\nThe PMEL gene and merle (dapple) in the dachshund: cryptic, hidden, and mosaic\\nvariants demonstrate the need for genetic testing prior to breeding.\\n\\nBallif BC(1), Emerson LJ(2), Ramirez CJ(3), Carl CR(3), Sundin K(3), Flores-Smith\\nH(3), Shaffer LG(3)(4).\\n\\nAuthor information: \\n(1)Paw Print Genetics, Genetic Veterinary Sciences, Inc., 220 E Rowan, Suite 220,\\nSpokane, WA, 99207, USA. bballif@pawprintgenetics.com.\\n(2)Eridox Dachshunds, Kansas City, MO, USA.\\n(3)Paw Print Genetics, Genetic Veterinary Sciences, Inc., 220 E Rowan, Suite 220,\\nSpokane, WA, 99207, USA.\\n(4)Center for Reproductive Biology, Washington State University, Pullman, WA,\\nUSA.\\n\\nOne of the most unique coat color patterns in the domestic dog is merle (also\\nknown as dapple in the dachshund breed), characterized by patches of normal\\npigmentation surrounded by diluted eumelanin pigment. In dogs, this striking\\nvariegated pattern is caused by an insertion of a SINE element into the PMEL\\ngene. Differences in the length of the SINE insertion [due to a variable-length\\npoly(A)-tail] has been associated with variation in the merle coat color and\\npatterning. We previously performed a systematic evaluation of merle in 175\\nAustralian shepherds and related breeds and correlated the length of the merle\\ninsertion variants with four broad phenotypic clusters designated as \"cryptic\",\\n\"atypical\", \"classic\", and \"harlequin\" merle. In this study, we evaluated the\\nSINE insertions in 140 dachshunds and identified the same major merle phenotypic \\nclusters with only slight variation between breeds. Specifically, we identified\\nnumerous cases of true \"hidden\" merle in dachshunds with light/red (pheomelanin) \\ncoats with little to no black/brown pigment (eumelanin) and thus minimal or no\\nobservable merle phenotype. In addition, we identified somatic and gonadal\\nmosaicism, with one dog having a large insertion in the harlequin size range of\\nM281 that had no merle phenotype and unintentionally produced a double merle\\npuppy with anophthalmia. The frequent identification of cryptic, hidden, and\\nmosaic merle variants, which can be undetectable by phenotypic inspection, should\\nbe of particular concern to breeders and illustrates the critical need for\\ngenetic testing for merle prior to breeding to avoid producing dogs with serious \\nhealth problems.\\n\\n© 2021. The Author(s), under exclusive licence to Springer-Verlag GmbH Germany,\\npart of Springer Nature.\\n\\nDOI: 10.1007/s00439-021-02330-y \\nPMID: 34370083  [Indexed for MEDLINE]\\n\\n',\n",
              " \"\\n1. Skin Pharmacol Physiol. 2021;34(6):307-316. doi: 10.1159/000516282. Epub 2021 May\\n31.\\n\\nA Melanocortin-4 Receptor Agonist Induces Skin and Hair Pigmentation in Patients \\nwith Monogenic Mutations in the Leptin-Melanocortin Pathway.\\n\\nKanti V(1), Puder L(2)(3), Jahnke I(1), Krabusch PM(2)(3), Kottner J(1), Vogt\\nA(1), Richter C(1), Andruck A(1), Lechner L(2), Poitou C(4)(5), Krude H(2),\\nGottesdiener K(6), Clément K(4)(5), Farooqi IS(7), Wiegand S(8), Kühnen P(2),\\nBlume-Peytavi U(1).\\n\\nAuthor information: \\n(1)Berlin Institute of Health, Department of Dermatology and Allergy, Charité,\\nUniversitätsmedizin Berlin, Corporate Member of Freie Universität Berlin,\\nHumboldt-Universität zu Berlin, Clinical Research Center for Hair and Skin\\nScience, Berlin, Germany.\\n(2)Institute for Experimental Pediatric Endocrinology, Berlin Institute of\\nHealth, Charité, Universitätsmedizin Berlin, Corporate Member of Freie\\nUniversität Berlin, Humboldt-Universität zu Berlin, Berlin, Germany.\\n(3)Berlin Institute of Health, Department for Pediatric Endocrinology and\\nDiabetology, Charité, Universitätsmedizin Berlin, Corporate Member of Freie\\nUniversität Berlin, Humboldt-Universität zu Berlin, Berlin, Germany.\\n(4)Assistance Publique Hôpitaux de Paris, Pitié-Salpêtrière Hospital, CRNH-Ile de\\nFrance Paris, Nutrition department, Paris, France.\\n(5)Sorbonne Université, INSERM, Nutrition and Obesity, systemic approach\\n(NutriOmics) research group, Paris, France.\\n(6)Rhythm Pharmaceuticals, Boston, Massachusetts, USA.\\n(7)Wellcome Trust-MRC Institute of Metabolic Science, University of Cambridge\\nMetabolic Research Laboratories and NIHR Cambridge Biomedical Research Centre,\\nAddenbrooke's Hospital, Cambridge, United Kingdom.\\n(8)Berlin Institute of Health, Center for Social-Pediatric Care/Pediatric\\nEndocrinology and Diabetology, Charité, Universitätsmedizin Berlin, Corporate\\nMember of Freie Universität Berlin, Humboldt-Universität zu Berlin, Berlin,\\nGermany.\\n\\nBACKGROUND AND OBJECTIVES: Gene mutations within the leptin-melanocortin\\nsignaling pathway lead to severe early-onset obesity. Recently, a phase 2 trial\\nevaluated new pharmacological treatment options with the MC4R agonist\\nsetmelanotide in patients with mutations in the genes encoding\\nproopiomelanocortin (POMC) and leptin receptor (LEPR). During treatment with\\nsetmelanotide, changes in skin pigmentation were observed, probably due to\\noff-target effects on the closely related melanocortin 1 receptor (MC1R). Here,\\nwe describe in detail the findings of dermatological examinations and\\nmeasurements of skin pigmentation during this treatment over time and discuss the\\nimpact of these changes on patient safety.\\nMETHODS: In an investigator-initiated, phase 2, open-label pilot study, 2\\npatients with loss-of-function POMC gene mutations and 3 patients with\\nloss-of-function variants in LEPR were treated with the MC4R agonist\\nsetmelanotide. Dermatological examination, dermoscopy, whole body photographic\\ndocumentation, and spectrophotometric measurements were performed at screening\\nvisit and approximately every 3 months during the course of the study.\\nRESULTS: We report the results of a maximum treatment duration of 46 months. Skin\\npigmentation increased in all treated patients, as confirmed by\\nspectrophotometry. During continuous treatment, the current results indicate that\\nelevated tanning intensity levels may stabilize over time. Lips and nevi also\\ndarkened. In red-haired study participants, hair color changed to brown after\\ninitiation of setmelanotide treatment.\\nDISCUSSION: Setmelanotide treatment leads to skin tanning and occasionally hair\\ncolor darkening in both POMC- and LEPR-deficient patients. No malignant skin\\nchanges were observed in the patients of this study. However, the results\\nhighlight the importance of regular skin examinations before and during MC4R\\nagonist treatment.\\n\\n© 2021 S. Karger AG, Basel.\\n\\nDOI: 10.1159/000516282 \\nPMID: 34058738  [Indexed for MEDLINE]\\n\\n\"]"
            ]
          },
          "metadata": {},
          "execution_count": 17
        }
      ]
    },
    {
      "cell_type": "code",
      "source": [
        "with open('hair color text.txt', 'w') as f:\n",
        "    for item in text_pubmed:\n",
        "        f.write(\"%s\\n\" % item)"
      ],
      "metadata": {
        "id": "ZRvRSsYTNq-G"
      },
      "execution_count": null,
      "outputs": []
    }
  ]
}